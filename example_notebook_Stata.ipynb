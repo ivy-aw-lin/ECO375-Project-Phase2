{
 "cells": [
  {
   "cell_type": "code",
   "execution_count": 1,
   "metadata": {},
   "outputs": [
    {
     "name": "stdout",
     "output_type": "stream",
     "text": [
      "\n",
      "setroot is searching for the root project path of \"/workspaces/DEV-ECO375-DAmodu\n",
      "> le2\"\n",
      "root project path found; setting \"global root = /workspaces/DEV-ECO375-DAmodule2\n",
      "> \" \n",
      "\n",
      "\n",
      "(1978 automobile data)\n"
     ]
    }
   ],
   "source": [
    "* Define a variable ${root} which points to the root folder of the repository\n",
    "setroot\n",
    "\n",
    "* Erase our YAML results file (if it exists) so the code writes it from scratch\n",
    "capture erase \"${root}/results/example.yaml\"\n",
    "\n",
    "* Load the data\n",
    "use \"${root}/data/raw/auto.dta\", clear"
   ]
  },
  {
   "cell_type": "code",
   "execution_count": 2,
   "metadata": {},
   "outputs": [
    {
     "name": "stdout",
     "output_type": "stream",
     "text": [
      "\n",
      "     +------------------------------------------------------------------------+\n",
      "  1. | make        | price | mpg | rep78 | headroom | trunk | weight | length |\n",
      "     | AMC Concord | 4,099 |  22 |     3 |      2.5 |    11 |  2,930 |    186 |\n",
      "     |------------------------------------------------------------------------|\n",
      "     |     turn     |     displa~t     |     gear_r~o     |      foreign      |\n",
      "     |       40     |          121     |         3.58     |     Domestic      |\n",
      "     +------------------------------------------------------------------------+\n",
      "\n",
      "     +------------------------------------------------------------------------+\n",
      "  2. | make        | price | mpg | rep78 | headroom | trunk | weight | length |\n",
      "     | AMC Pacer   | 4,749 |  17 |     3 |      3.0 |    11 |  3,350 |    173 |\n",
      "     |------------------------------------------------------------------------|\n",
      "     |     turn     |     displa~t     |     gear_r~o     |      foreign      |\n",
      "     |       40     |          258     |         2.53     |     Domestic      |\n",
      "     +------------------------------------------------------------------------+\n",
      "\n",
      "     +------------------------------------------------------------------------+\n",
      "  3. | make        | price | mpg | rep78 | headroom | trunk | weight | length |\n",
      "     | AMC Spirit  | 3,799 |  22 |     . |      3.0 |    12 |  2,640 |    168 |\n",
      "     |------------------------------------------------------------------------|\n",
      "     |     turn     |     displa~t     |     gear_r~o     |      foreign      |\n",
      "     |       35     |          121     |         3.08     |     Domestic      |\n",
      "     +------------------------------------------------------------------------+\n"
     ]
    }
   ],
   "source": [
    "* List the first 3 observations\n",
    "list in 1/3"
   ]
  },
  {
   "cell_type": "code",
   "execution_count": 3,
   "metadata": {},
   "outputs": [
    {
     "name": "stdout",
     "output_type": "stream",
     "text": [
      "\n",
      "\n",
      "                        Mileage (mpg)\n",
      "-------------------------------------------------------------\n",
      "      Percentiles      Smallest\n",
      " 1%           12             12\n",
      " 5%           14             12\n",
      "10%           14             14       Obs                  74\n",
      "25%           18             14       Sum of wgt.          74\n",
      "\n",
      "50%           20                      Mean            21.2973\n",
      "                        Largest       Std. dev.      5.785503\n",
      "75%           25             34\n",
      "90%           29             35       Variance       33.47205\n",
      "95%           34             35       Skewness       .9487176\n",
      "99%           41             41       Kurtosis       3.975005\n",
      "\n",
      "\n",
      "scalars:\n",
      "                  r(N) =  74\n",
      "              r(sum_w) =  74\n",
      "               r(mean) =  21.2972972972973\n",
      "                r(Var) =  33.47204738985561\n",
      "                 r(sd) =  5.785503209735141\n",
      "           r(skewness) =  .9487175964588155\n",
      "           r(kurtosis) =  3.97500459645325\n",
      "                r(sum) =  1576\n",
      "                r(min) =  12\n",
      "                r(max) =  41\n",
      "                 r(p1) =  12\n",
      "                 r(p5) =  14\n",
      "                r(p10) =  14\n",
      "                r(p25) =  18\n",
      "                r(p50) =  20\n",
      "                r(p75) =  25\n",
      "                r(p90) =  29\n",
      "                r(p95) =  34\n",
      "                r(p99) =  41\n",
      "\n",
      "(file /workspaces/DEV-ECO375-DAmodule2/results/example.yaml not found)\n"
     ]
    }
   ],
   "source": [
    "* Calculate descriptive statistics like the mean\n",
    "sum mpg, d\n",
    "return list\n",
    "yamlout using \"${root}/results/example.yaml\", key(average_mpg) value(`=r(mean)')"
   ]
  },
  {
   "cell_type": "code",
   "execution_count": 4,
   "metadata": {},
   "outputs": [
    {
     "name": "stdout",
     "output_type": "stream",
     "text": [
      "\n",
      "\n",
      "      Source |       SS           df       MS      Number of obs   =        74\n",
      "-------------+----------------------------------   F(2, 71)        =     14.07\n",
      "       Model |   180261702         2  90130850.8   Prob > F        =    0.0000\n",
      "    Residual |   454803695        71  6405685.84   R-squared       =    0.2838\n",
      "-------------+----------------------------------   Adj R-squared   =    0.2637\n",
      "       Total |   635065396        73  8699525.97   Root MSE        =    2530.9\n",
      "\n",
      "------------------------------------------------------------------------------\n",
      "       price | Coefficient  Std. err.      t    P>|t|     [95% conf. interval]\n",
      "-------------+----------------------------------------------------------------\n",
      "         mpg |  -294.1955   55.69172    -5.28   0.000    -405.2417   -183.1494\n",
      "     foreign |   1767.292    700.158     2.52   0.014     371.2169    3163.368\n",
      "       _cons |   11905.42   1158.634    10.28   0.000     9595.164    14215.67\n",
      "------------------------------------------------------------------------------\n",
      "\n",
      "\n",
      "      Source |       SS           df       MS      Number of obs   =        74\n",
      "-------------+----------------------------------   F(2, 71)        =     14.07\n",
      "       Model |   180261702         2  90130850.8   Prob > F        =    0.0000\n",
      "    Residual |   454803695        71  6405685.84   R-squared       =    0.2838\n",
      "-------------+----------------------------------   Adj R-squared   =    0.2637\n",
      "       Total |   635065396        73  8699525.97   Root MSE        =    2530.9\n",
      "\n",
      "------------------------------------------------------------------------------\n",
      "       price | Coefficient  Legend\n",
      "-------------+----------------------------------------------------------------\n",
      "         mpg |  -294.1955  _b[mpg]\n",
      "     foreign |   1767.292  _b[foreign]\n",
      "       _cons |   11905.42  _b[_cons]\n",
      "------------------------------------------------------------------------------\n",
      "\n",
      "Coefficient and Standard Error for mpg: -294.1955330954708 (55.69171861092118)\n",
      "\n",
      "Coefficient and Standard Error for foreign: 1767.292243229174 (700.1579698306406\n",
      "> )\n",
      "\n",
      "Coefficient and Standard Error for constant: 11905.41528118135 (1158.63445215098\n",
      "> 2)\n",
      "\n",
      "\n",
      "scalars:\n",
      "                  e(N) =  74\n",
      "               e(df_m) =  2\n",
      "               e(df_r) =  71\n",
      "                  e(F) =  14.07044507869964\n",
      "                 e(r2) =  .2838474630671753\n",
      "               e(rmse) =  2530.945641206649\n",
      "                e(mss) =  180261701.570873\n",
      "                e(rss) =  454803694.5507485\n",
      "               e(r2_a) =  .2636741521676592\n",
      "                 e(ll) =  -683.3599714095877\n",
      "               e(ll_0) =  -695.7128688987767\n",
      "               e(rank) =  3\n",
      "\n",
      "macros:\n",
      "            e(cmdline) : \"regress price mpg foreign, coeflegend\"\n",
      "              e(title) : \"Linear regression\"\n",
      "          e(marginsok) : \"XB default\"\n",
      "                e(vce) : \"ols\"\n",
      "             e(depvar) : \"price\"\n",
      "                e(cmd) : \"regress\"\n",
      "         e(properties) : \"b V\"\n",
      "            e(predict) : \"regres_p\"\n",
      "              e(model) : \"ols\"\n",
      "          e(estat_cmd) : \"regress_estat\"\n",
      "\n",
      "matrices:\n",
      "                  e(b) :  1 x 3\n",
      "                  e(V) :  3 x 3\n",
      "               e(beta) :  1 x 2\n",
      "\n",
      "functions:\n",
      "             e(sample)   \n",
      "\n"
     ]
    }
   ],
   "source": [
    "* Run an OLS regression\n",
    "reg price mpg foreign\n",
    "reg price mpg foreign, coeflegend\n",
    "di \"Coefficient and Standard Error for mpg: `=_b[mpg]' (`=_se[mpg]')\"\n",
    "di \"Coefficient and Standard Error for foreign: `=_b[foreign]' (`=_se[foreign]')\"\n",
    "di \"Coefficient and Standard Error for constant: `=_b[_cons]' (`=_se[_cons]')\"\n",
    "ereturn list\n",
    "yamlout using \"${root}/results/example.yaml\", key(ols_slope_mpg) value(`=_b[mpg]')"
   ]
  }
 ],
 "metadata": {
  "kernelspec": {
   "display_name": "Stata",
   "language": "stata",
   "name": "stata"
  },
  "language_info": {
   "codemirror_mode": "stata",
   "file_extension": ".do",
   "mimetype": "text/x-stata",
   "name": "stata",
   "version": "15.1"
  },
  "orig_nbformat": 4
 },
 "nbformat": 4,
 "nbformat_minor": 2
}
